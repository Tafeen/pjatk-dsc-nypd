{
 "cells": [
  {
   "cell_type": "code",
   "execution_count": null,
   "metadata": {},
   "outputs": [],
   "source": [
    "api_key = 'mdeqlkih5n1165zrzr12ef7h'\n",
    "api_secret = '2i226o40eck9h9cbfp3gus6mvdc72bt5u22bf16cybje5a1071'\n",
    "output_file = \"data/drug_crime.csv\""
   ]
  },
  {
   "cell_type": "markdown",
   "metadata": {},
   "source": [
    "Base Dataset"
   ]
  },
  {
   "cell_type": "code",
   "execution_count": null,
   "metadata": {},
   "outputs": [
    {
     "name": "stdout",
     "output_type": "stream",
     "text": [
      "Filters: %24where=pd_desc%20like%20%27%25CONTROLLED%25SUBSTANCE%25SALE%25%27\n",
      "Retrieved 84838 records\n",
      "Saved to file data/drug_crime.csv\n"
     ]
    }
   ],
   "source": [
    "import pandas as pd\n",
    "from io import StringIO\n",
    "\n",
    "import requests\n",
    "from requests.auth import HTTPBasicAuth\n",
    "from urllib.parse import quote\n",
    "\n",
    "limit = 84838\n",
    "offset = 0\n",
    "\n",
    "filters = quote(\"\"\"\n",
    "                $where=pd_desc like '%CONTROLLED%SUBSTANCE%SALE%'\n",
    "                \"\"\".strip(), safe=':/?&=')\n",
    "print(\"Filters:\", filters)\n",
    "\n",
    "df = pd.DataFrame()\n",
    "while True:\n",
    "    url = f\"\"\"\n",
    "    https://data.cityofnewyork.us/resource/qgea-i56i.csv?{filters}&$limit={limit}&$offset={offset}\n",
    "    \"\"\".strip()\n",
    "    response = requests.get(url, auth=HTTPBasicAuth(api_key, api_secret))\n",
    "\n",
    "    if response.status_code == 200:\n",
    "        csv_data = StringIO(response.text)\n",
    "        df_temp = pd.read_csv(csv_data)\n",
    "\n",
    "        # If df is not empty, append the new data\n",
    "        if not df_temp.empty:\n",
    "            print(f\"Retrieved {offset + limit} records\")\n",
    "            df = pd.concat([df, df_temp])\n",
    "            offset += limit\n",
    "        else:\n",
    "            break\n",
    "    else:\n",
    "        raise Exception(f\"Failed to retrieve data. Status code: {response.status_code}\", response.json())\n",
    "    \n",
    "# Save to file\n",
    "df.to_csv(output_file, index=False)\n",
    "print(\"Saved to file\", output_file)\n"
   ]
  },
  {
   "cell_type": "markdown",
   "metadata": {},
   "source": [
    "Datasets:\n",
    "Geospatial - boroughs location prices"
   ]
  }
 ],
 "metadata": {
  "language_info": {
   "name": "python"
  }
 },
 "nbformat": 4,
 "nbformat_minor": 2
}
